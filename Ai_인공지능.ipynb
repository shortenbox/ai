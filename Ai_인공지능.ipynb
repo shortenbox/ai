{
  "nbformat": 4,
  "nbformat_minor": 0,
  "metadata": {
    "colab": {
      "provenance": [],
      "authorship_tag": "ABX9TyPYjzM89QidhnlQTYftzisc",
      "include_colab_link": true
    },
    "kernelspec": {
      "name": "python3",
      "display_name": "Python 3"
    },
    "language_info": {
      "name": "python"
    }
  },
  "cells": [
    {
      "cell_type": "markdown",
      "metadata": {
        "id": "view-in-github",
        "colab_type": "text"
      },
      "source": [
        "<a href=\"https://colab.research.google.com/github/shortenbox/ai/blob/main/Ai_%EC%9D%B8%EA%B3%B5%EC%A7%80%EB%8A%A5.ipynb\" target=\"_parent\"><img src=\"https://colab.research.google.com/assets/colab-badge.svg\" alt=\"Open In Colab\"/></a>"
      ]
    },
    {
      "cell_type": "markdown",
      "source": [],
      "metadata": {
        "id": "uKkx5SHdkdQ-"
      }
    },
    {
      "cell_type": "code",
      "source": [
        "인공지능 1번 문제"
      ],
      "metadata": {
        "id": "Vd4O6zcWnWyO"
      },
      "execution_count": null,
      "outputs": []
    },
    {
      "cell_type": "code",
      "source": [
        "\n",
        "\n",
        "#include static\n",
        "\n",
        "\n",
        "name= \"이름\";\n",
        "age= 22;\n",
        "\"이름: %c\", name;\n",
        "\"나이: %d\", age;\n"
      ],
      "metadata": {
        "id": "buXU9buOktla"
      },
      "execution_count": 4,
      "outputs": []
    },
    {
      "cell_type": "code",
      "source": [
        "인공지능 2번 문제"
      ],
      "metadata": {
        "id": "g0PE9XAsouFV"
      },
      "execution_count": null,
      "outputs": []
    },
    {
      "cell_type": "code",
      "source": [
        "for(int i=1; i<10; i++)\n",
        "{\n",
        "     \"---------%d단------------\", i; \n",
        "     for( int j=1; j<10; j++) \n",
        "    {\n",
        "     \"구구단 : %d X %d= %d*%d입니다.\", i,j;\n",
        "    }  \n",
        "}"
      ],
      "metadata": {
        "id": "6Q6vIZDag03f"
      },
      "execution_count": 2,
      "outputs": []
    },
    {
      "cell_type": "markdown",
      "source": [
        "3번 문제"
      ],
      "metadata": {
        "id": "Xzd1kxpVkgJ3"
      }
    },
    {
      "cell_type": "code",
      "source": [
        "exam=[60,80,95,69,90,81,80,69,79,66,70,90,96]\n",
        "a=[A,B,C,D,F]\n",
        "if(exam>=90)\n",
        "    a=\"A\";\n",
        "else if:(80<=exam<90)\n",
        "    a=\"B\";\n",
        "\n",
        "else if(70<=exam<80)\n",
        "    a=\"C\";\n",
        "\n",
        "else if(60<=exam<70)\n",
        "    a=\"D\";\n",
        "\n",
        "else \n",
        "    a=\"F\";\n",
        "\n",
        "\"당신의 성적은 %d 이므로, 점수는 %c 입니다.\",exam,a;"
      ],
      "metadata": {
        "id": "XqlTbkyop9lT"
      },
      "execution_count": null,
      "outputs": []
    },
    {
      "cell_type": "code",
      "source": [
        "4번 문제"
      ],
      "metadata": {
        "id": "L17tdRworz3S"
      },
      "execution_count": null,
      "outputs": []
    },
    {
      "cell_type": "code",
      "source": [
        "for(i=1; i<=10; i++){\n",
        "    for(j=i; j<=10; j++)\n",
        "\"i의 값 : %d, 합계: %d\",i,i;\n",
        "}"
      ],
      "metadata": {
        "id": "wYL6ABO_uU6t"
      },
      "execution_count": null,
      "outputs": []
    },
    {
      "cell_type": "code",
      "source": [
        "마지막 문제"
      ],
      "metadata": {
        "id": "dFcwFhjAuZ0G"
      },
      "execution_count": null,
      "outputs": []
    },
    {
      "cell_type": "code",
      "source": [
        "price=10000;\n",
        "total;\n",
        "\"주문 금액을 입력하시오.\"\n",
        "scanf(\"%d\",total)\n",
        "if(price>=total)\n",
        "\"구매 가능\";\n",
        "else \n",
        "\"구매 불가능\";"
      ],
      "metadata": {
        "id": "r6xIocZ0uafk"
      },
      "execution_count": null,
      "outputs": []
    }
  ]
}