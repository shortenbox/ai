{
  "nbformat": 4,
  "nbformat_minor": 0,
  "metadata": {
    "colab": {
      "provenance": [],
      "authorship_tag": "ABX9TyPWpOF1AQ4Mp5ZfrMv0rA1h",
      "include_colab_link": true
    },
    "kernelspec": {
      "name": "python3",
      "display_name": "Python 3"
    },
    "language_info": {
      "name": "python"
    }
  },
  "cells": [
    {
      "cell_type": "markdown",
      "metadata": {
        "id": "view-in-github",
        "colab_type": "text"
      },
      "source": [
        "<a href=\"https://colab.research.google.com/github/shortenbox/ai/blob/main/AI_MEMO.ipynb\" target=\"_parent\"><img src=\"https://colab.research.google.com/assets/colab-badge.svg\" alt=\"Open In Colab\"/></a>"
      ]
    },
    {
      "cell_type": "markdown",
      "source": [
        "입출력 "
      ],
      "metadata": {
        "id": "1DhfD5dQR2UG"
      }
    },
    {
      "cell_type": "code",
      "execution_count": null,
      "metadata": {
        "id": "xouzeo1mqxzC"
      },
      "outputs": [],
      "source": [
        "a=1\n",
        "b=2\n",
        "c=3\n",
        "d=4"
      ]
    },
    {
      "cell_type": "code",
      "source": [
        "a+b, a-b, a*c"
      ],
      "metadata": {
        "colab": {
          "base_uri": "https://localhost:8080/"
        },
        "id": "5bCw9qEUq7gu",
        "outputId": "d39c99c4-c2ca-465f-971f-f824151fc61a"
      },
      "execution_count": null,
      "outputs": [
        {
          "output_type": "execute_result",
          "data": {
            "text/plain": [
              "(3, -1, 3)"
            ]
          },
          "metadata": {},
          "execution_count": 2
        }
      ]
    },
    {
      "cell_type": "code",
      "source": [
        "print(a+b)\n",
        "print(a+b, a-b, a*c)"
      ],
      "metadata": {
        "colab": {
          "base_uri": "https://localhost:8080/"
        },
        "id": "Wxd-OLkGq-dU",
        "outputId": "da118189-1cfd-40ed-dc48-9a0f6a8cc2fc"
      },
      "execution_count": null,
      "outputs": [
        {
          "output_type": "stream",
          "name": "stdout",
          "text": [
            "3\n",
            "3 -1 3\n"
          ]
        }
      ]
    },
    {
      "cell_type": "code",
      "source": [
        "print(a*b)\n",
        "print(d/b)\n",
        "print(d%c)"
      ],
      "metadata": {
        "colab": {
          "base_uri": "https://localhost:8080/"
        },
        "id": "P8Awaun1rKPo",
        "outputId": "e9fdb832-0d00-4097-e92f-932028970ba1"
      },
      "execution_count": null,
      "outputs": [
        {
          "output_type": "stream",
          "name": "stdout",
          "text": [
            "2\n",
            "2.0\n",
            "1\n"
          ]
        }
      ]
    },
    {
      "cell_type": "markdown",
      "source": [
        "input입력 "
      ],
      "metadata": {
        "id": "zfm3MIjucP73"
      }
    },
    {
      "cell_type": "code",
      "source": [
        "a=input()"
      ],
      "metadata": {
        "colab": {
          "base_uri": "https://localhost:8080/"
        },
        "id": "PVptoO8QrREd",
        "outputId": "4e23d26b-8059-4d48-a410-aae0656ce280"
      },
      "execution_count": null,
      "outputs": [
        {
          "name": "stdout",
          "output_type": "stream",
          "text": [
            "10\n"
          ]
        }
      ]
    },
    {
      "cell_type": "code",
      "source": [
        "type(a)"
      ],
      "metadata": {
        "colab": {
          "base_uri": "https://localhost:8080/"
        },
        "id": "n-KOYl7GrUd6",
        "outputId": "6261971d-2e49-4a8c-ec98-e5e02f312230"
      },
      "execution_count": null,
      "outputs": [
        {
          "output_type": "execute_result",
          "data": {
            "text/plain": [
              "str"
            ]
          },
          "metadata": {},
          "execution_count": 9
        }
      ]
    },
    {
      "cell_type": "markdown",
      "source": [
        "실수형 "
      ],
      "metadata": {
        "id": "crWykigjSZ_K"
      }
    },
    {
      "cell_type": "code",
      "source": [
        "a=float(input())"
      ],
      "metadata": {
        "colab": {
          "base_uri": "https://localhost:8080/"
        },
        "id": "WnZsvC28reya",
        "outputId": "822a5b35-6518-4bfa-9d8c-8e3d07da0579"
      },
      "execution_count": null,
      "outputs": [
        {
          "name": "stdout",
          "output_type": "stream",
          "text": [
            "10.2\n"
          ]
        }
      ]
    },
    {
      "cell_type": "code",
      "source": [
        "type(a)"
      ],
      "metadata": {
        "colab": {
          "base_uri": "https://localhost:8080/"
        },
        "id": "5101gCScrh0l",
        "outputId": "048d9f1f-11c8-4eff-b0cc-2f2be66f9657"
      },
      "execution_count": null,
      "outputs": [
        {
          "output_type": "execute_result",
          "data": {
            "text/plain": [
              "float"
            ]
          },
          "metadata": {},
          "execution_count": 12
        }
      ]
    },
    {
      "cell_type": "markdown",
      "source": [
        "정수형 "
      ],
      "metadata": {
        "id": "Lr8bASvqScDR"
      }
    },
    {
      "cell_type": "code",
      "source": [
        "a=int(input())"
      ],
      "metadata": {
        "colab": {
          "base_uri": "https://localhost:8080/"
        },
        "id": "RFFIuvPVrmCg",
        "outputId": "a16b61c0-7791-4431-a6f2-489019d84b7d"
      },
      "execution_count": null,
      "outputs": [
        {
          "name": "stdout",
          "output_type": "stream",
          "text": [
            "10\n"
          ]
        }
      ]
    },
    {
      "cell_type": "code",
      "source": [
        "type(a)"
      ],
      "metadata": {
        "colab": {
          "base_uri": "https://localhost:8080/"
        },
        "id": "E34CWHIXrpBD",
        "outputId": "bcd2d69e-e0e5-47cb-ac3b-169fe263ea0a"
      },
      "execution_count": null,
      "outputs": [
        {
          "output_type": "execute_result",
          "data": {
            "text/plain": [
              "int"
            ]
          },
          "metadata": {},
          "execution_count": 15
        }
      ]
    },
    {
      "cell_type": "markdown",
      "source": [
        "슬라이싱 "
      ],
      "metadata": {
        "id": "ivZYc_t0ZGe3"
      }
    },
    {
      "cell_type": "code",
      "source": [
        "A=\"안녕하세요 지금은 인공지능 수업 시간입니다.\""
      ],
      "metadata": {
        "id": "3umkLSi5r2N1"
      },
      "execution_count": null,
      "outputs": []
    },
    {
      "cell_type": "code",
      "source": [
        "A[0:5]"
      ],
      "metadata": {
        "id": "swUbyCfxr7Yo",
        "colab": {
          "base_uri": "https://localhost:8080/",
          "height": 35
        },
        "outputId": "52d47928-2d0f-4e36-b8a4-a3429264b962"
      },
      "execution_count": null,
      "outputs": [
        {
          "output_type": "execute_result",
          "data": {
            "text/plain": [
              "'안녕하세요'"
            ],
            "application/vnd.google.colaboratory.intrinsic+json": {
              "type": "string"
            }
          },
          "metadata": {},
          "execution_count": 4
        }
      ]
    },
    {
      "cell_type": "code",
      "source": [
        "A[-1]"
      ],
      "metadata": {
        "colab": {
          "base_uri": "https://localhost:8080/",
          "height": 35
        },
        "id": "59sGuXCYsD6U",
        "outputId": "c20892a2-c677-44bd-d997-a24ac3b51a50"
      },
      "execution_count": null,
      "outputs": [
        {
          "output_type": "execute_result",
          "data": {
            "text/plain": [
              "'.'"
            ],
            "application/vnd.google.colaboratory.intrinsic+json": {
              "type": "string"
            }
          },
          "metadata": {},
          "execution_count": 3
        }
      ]
    },
    {
      "cell_type": "code",
      "source": [
        "A[-6:]"
      ],
      "metadata": {
        "colab": {
          "base_uri": "https://localhost:8080/",
          "height": 35
        },
        "id": "CZk1uZM2sH2C",
        "outputId": "47f3e4ef-e7ef-400f-f8fd-9ef5256f04fb"
      },
      "execution_count": null,
      "outputs": [
        {
          "output_type": "execute_result",
          "data": {
            "text/plain": [
              "'시간입니다.'"
            ],
            "application/vnd.google.colaboratory.intrinsic+json": {
              "type": "string"
            }
          },
          "metadata": {},
          "execution_count": 5
        }
      ]
    },
    {
      "cell_type": "code",
      "source": [
        "A[4:]"
      ],
      "metadata": {
        "colab": {
          "base_uri": "https://localhost:8080/",
          "height": 35
        },
        "id": "Jx4GQmvnsKNA",
        "outputId": "13d61983-7ada-4e5c-9b1c-214c826c52ea"
      },
      "execution_count": null,
      "outputs": [
        {
          "output_type": "execute_result",
          "data": {
            "text/plain": [
              "'요 지금은 인공지능 수업 시간입니다.'"
            ],
            "application/vnd.google.colaboratory.intrinsic+json": {
              "type": "string"
            }
          },
          "metadata": {},
          "execution_count": 23
        }
      ]
    },
    {
      "cell_type": "code",
      "source": [
        "print(\"이번 시험 성적은\\n85점입니다.\")"
      ],
      "metadata": {
        "colab": {
          "base_uri": "https://localhost:8080/"
        },
        "id": "kt9Y6d7ySw36",
        "outputId": "72f9b04f-5310-4f49-fa17-8646c705ba7b"
      },
      "execution_count": null,
      "outputs": [
        {
          "output_type": "stream",
          "name": "stdout",
          "text": [
            "이번 시험 성적은\n",
            "85점입니다.\n"
          ]
        }
      ]
    },
    {
      "cell_type": "markdown",
      "source": [
        "슬라이싱-format문 "
      ],
      "metadata": {
        "id": "qHAr0mKVS_H1"
      }
    },
    {
      "cell_type": "code",
      "source": [
        "print(\"이번 시험의 성적으로 {}점을 맞았습니다. \".format(100))"
      ],
      "metadata": {
        "colab": {
          "base_uri": "https://localhost:8080/"
        },
        "id": "Ldg38otQtXjK",
        "outputId": "37273058-2d22-4d0e-a383-649416857512"
      },
      "execution_count": null,
      "outputs": [
        {
          "output_type": "stream",
          "name": "stdout",
          "text": [
            "이번 시험의 성적으로 100점을 맞았습니다. \n"
          ]
        }
      ]
    },
    {
      "cell_type": "code",
      "source": [
        "print(\"{}년도는 현재 {}시 {}분입니다.\".format(2023,10,8))"
      ],
      "metadata": {
        "colab": {
          "base_uri": "https://localhost:8080/"
        },
        "id": "BPSViABjTDNH",
        "outputId": "db13cb87-a037-406c-eb07-a56525917439"
      },
      "execution_count": null,
      "outputs": [
        {
          "output_type": "stream",
          "name": "stdout",
          "text": [
            "2023년도는 현재 10시 8분입니다.\n"
          ]
        }
      ]
    },
    {
      "cell_type": "code",
      "source": [
        "A=\"I am a \"\n",
        "B=\"boy\"\n",
        "A+B"
      ],
      "metadata": {
        "colab": {
          "base_uri": "https://localhost:8080/",
          "height": 35
        },
        "id": "SqkMfW41t7qY",
        "outputId": "c3a5bde1-8def-43fb-bcab-31e04401ad67"
      },
      "execution_count": null,
      "outputs": [
        {
          "output_type": "execute_result",
          "data": {
            "text/plain": [
              "'I am a boy'"
            ],
            "application/vnd.google.colaboratory.intrinsic+json": {
              "type": "string"
            }
          },
          "metadata": {},
          "execution_count": 29
        }
      ]
    },
    {
      "cell_type": "code",
      "source": [
        "A= \"I am a {} {}, {}\"\n",
        "B=\"girl\"\n",
        "C=\"so\"\n",
        "D=\"hello\"\n",
        "A.format(B,C,D)"
      ],
      "metadata": {
        "colab": {
          "base_uri": "https://localhost:8080/",
          "height": 35
        },
        "id": "nKq_0RCpuydo",
        "outputId": "9721d655-3680-475d-b766-d15f28801a06"
      },
      "execution_count": null,
      "outputs": [
        {
          "output_type": "execute_result",
          "data": {
            "text/plain": [
              "'I am a girl so, hello'"
            ],
            "application/vnd.google.colaboratory.intrinsic+json": {
              "type": "string"
            }
          },
          "metadata": {},
          "execution_count": 1
        }
      ]
    },
    {
      "cell_type": "code",
      "source": [
        "print((\"{:.2f},{:.3f}\").format(3.1415, 3.1414)) # 2f -> 소수점 2번째 까지 출력력"
      ],
      "metadata": {
        "colab": {
          "base_uri": "https://localhost:8080/"
        },
        "id": "9bpdKwSnvejA",
        "outputId": "366b4eb5-3896-45b5-f2b5-3176b1769893"
      },
      "execution_count": null,
      "outputs": [
        {
          "output_type": "stream",
          "name": "stdout",
          "text": [
            "3.14,3.141\n"
          ]
        }
      ]
    },
    {
      "cell_type": "code",
      "source": [
        "url=\"https://www.youtube.com/\""
      ],
      "metadata": {
        "id": "lNzCfgOwwdkp"
      },
      "execution_count": null,
      "outputs": []
    },
    {
      "cell_type": "code",
      "source": [
        "str = url.replace(\"https://\",\"\")"
      ],
      "metadata": {
        "id": "maV8F-fQwpRS"
      },
      "execution_count": null,
      "outputs": []
    },
    {
      "cell_type": "code",
      "source": [
        "Index_str=str[:str.index(\"/\")]\n",
        "a=\"독고영재/ 50\" \n",
        "b=\"김철수, 30\"\n",
        "c=\"김영희, 45\"\n",
        "print(a[:a.index(\"/\")])\n",
        "print(b[:b.index(\",\")])\n",
        "print(c[:c.index(\",\")])"
      ],
      "metadata": {
        "colab": {
          "base_uri": "https://localhost:8080/"
        },
        "id": "I9IQxCmbxdHb",
        "outputId": "d759cd1c-dd94-4630-c175-737c4e151850"
      },
      "execution_count": null,
      "outputs": [
        {
          "output_type": "stream",
          "name": "stdout",
          "text": [
            "독고영재\n",
            "김철수\n",
            "김영희\n"
          ]
        }
      ]
    },
    {
      "cell_type": "markdown",
      "source": [
        "리스트 "
      ],
      "metadata": {
        "id": "y_asyu1AWKdm"
      }
    },
    {
      "cell_type": "code",
      "source": [
        "\n",
        "a= \"독고영재,50\"\n",
        "b=\"김철수, 30\"\n",
        "list_name = [\"독고영재, 50\",\"김철수,30\"]\n",
        "print(list_name)"
      ],
      "metadata": {
        "colab": {
          "base_uri": "https://localhost:8080/"
        },
        "id": "Ao7A3cVxybla",
        "outputId": "00b0b739-41ee-4a6f-f91f-ce3a42c61974"
      },
      "execution_count": null,
      "outputs": [
        {
          "output_type": "stream",
          "name": "stdout",
          "text": [
            "['독고영재, 50', '김철수,30']\n"
          ]
        }
      ]
    },
    {
      "cell_type": "code",
      "source": [
        "c=[\"독고영재,50\", \"김철수,30\"]\n",
        "d=\"안녕하세요 지금은 인공지능 수업 시간입니다.\"\n",
        "d[0:5]\n",
        "c[0][0:4]\n"
      ],
      "metadata": {
        "colab": {
          "base_uri": "https://localhost:8080/",
          "height": 35
        },
        "id": "SZgKx-NgyZxQ",
        "outputId": "ce4c1919-5b7e-4382-fae6-ba6304139a23"
      },
      "execution_count": null,
      "outputs": [
        {
          "output_type": "execute_result",
          "data": {
            "text/plain": [
              "'독고영재'"
            ],
            "application/vnd.google.colaboratory.intrinsic+json": {
              "type": "string"
            }
          },
          "metadata": {},
          "execution_count": 4
        }
      ]
    },
    {
      "cell_type": "code",
      "source": [
        "a = [\"독고영재, 50\" , \"김철수다, 30\"]\n",
        "a[1][:a[0].index(\",\")]"
      ],
      "metadata": {
        "colab": {
          "base_uri": "https://localhost:8080/",
          "height": 35
        },
        "id": "_NhE_r9t2Sgn",
        "outputId": "01790db0-32a8-412a-936a-89c1e2890389"
      },
      "execution_count": null,
      "outputs": [
        {
          "output_type": "execute_result",
          "data": {
            "text/plain": [
              "'김철수다'"
            ],
            "application/vnd.google.colaboratory.intrinsic+json": {
              "type": "string"
            }
          },
          "metadata": {},
          "execution_count": 33
        }
      ]
    },
    {
      "cell_type": "code",
      "source": [
        "a=[\"hi\",10,\"80\",\"김철수\",50,50,6]"
      ],
      "metadata": {
        "id": "4trsQVVymqev"
      },
      "execution_count": null,
      "outputs": []
    },
    {
      "cell_type": "code",
      "source": [
        "a.pop(6)"
      ],
      "metadata": {
        "colab": {
          "base_uri": "https://localhost:8080/"
        },
        "id": "hpjO_Wbgm2Xn",
        "outputId": "5829bd06-872c-4cc5-e339-ed7f45b44c5f"
      },
      "execution_count": null,
      "outputs": [
        {
          "output_type": "execute_result",
          "data": {
            "text/plain": [
              "5"
            ]
          },
          "metadata": {},
          "execution_count": 8
        }
      ]
    },
    {
      "cell_type": "code",
      "source": [
        "print(a)"
      ],
      "metadata": {
        "colab": {
          "base_uri": "https://localhost:8080/"
        },
        "id": "3txfjJ4fm7hf",
        "outputId": "7e8ea284-6b6b-4692-a5e1-331a5cd15f27"
      },
      "execution_count": null,
      "outputs": [
        {
          "output_type": "stream",
          "name": "stdout",
          "text": [
            "['hi', '80', '김철수', 50, 50, 6, 5]\n"
          ]
        }
      ]
    },
    {
      "cell_type": "code",
      "source": [
        "a.append(13)"
      ],
      "metadata": {
        "id": "muMZQ8V0m_IA"
      },
      "execution_count": null,
      "outputs": []
    },
    {
      "cell_type": "code",
      "source": [
        "print(a)"
      ],
      "metadata": {
        "colab": {
          "base_uri": "https://localhost:8080/"
        },
        "id": "os55ZmGonCQl",
        "outputId": "441a222d-b1c2-4bce-f07e-45ccb86d0625"
      },
      "execution_count": null,
      "outputs": [
        {
          "output_type": "stream",
          "name": "stdout",
          "text": [
            "['hi', '80', '김철수', 50, 50, 6, 5, 13]\n"
          ]
        }
      ]
    },
    {
      "cell_type": "code",
      "source": [
        "b=a.index(\"80\")"
      ],
      "metadata": {
        "id": "T2M1nWd1nKRx"
      },
      "execution_count": null,
      "outputs": []
    },
    {
      "cell_type": "code",
      "source": [
        "a.pop(b)\n",
        "print(a)"
      ],
      "metadata": {
        "colab": {
          "base_uri": "https://localhost:8080/"
        },
        "id": "4gSxIcSfnh2J",
        "outputId": "4b0c8bd2-0376-4a6c-f75a-fac8e525701a"
      },
      "execution_count": null,
      "outputs": [
        {
          "output_type": "stream",
          "name": "stdout",
          "text": [
            "['hi', '김철수', 50, 50, 6, 5, 13]\n"
          ]
        }
      ]
    },
    {
      "cell_type": "code",
      "source": [
        "A={\"1-A\": \"김철수\",\"20-B\":\"박영희\"}"
      ],
      "metadata": {
        "id": "vdwCUInCoN-z"
      },
      "execution_count": null,
      "outputs": []
    },
    {
      "cell_type": "code",
      "source": [
        "A[\"1-A\"]"
      ],
      "metadata": {
        "colab": {
          "base_uri": "https://localhost:8080/",
          "height": 35
        },
        "id": "LZeqqD3Ip8sG",
        "outputId": "e029802e-f951-4eac-e293-cd0d5c56bc66"
      },
      "execution_count": null,
      "outputs": [
        {
          "output_type": "execute_result",
          "data": {
            "text/plain": [
              "'김철수'"
            ],
            "application/vnd.google.colaboratory.intrinsic+json": {
              "type": "string"
            }
          },
          "metadata": {},
          "execution_count": 18
        }
      ]
    },
    {
      "cell_type": "code",
      "source": [
        "A[\"20-B\"]"
      ],
      "metadata": {
        "colab": {
          "base_uri": "https://localhost:8080/",
          "height": 35
        },
        "id": "oFPBOfUiW_eZ",
        "outputId": "cffac71c-8557-456e-8ebb-c84cf38b793d"
      },
      "execution_count": null,
      "outputs": [
        {
          "output_type": "execute_result",
          "data": {
            "text/plain": [
              "'박영희'"
            ],
            "application/vnd.google.colaboratory.intrinsic+json": {
              "type": "string"
            }
          },
          "metadata": {},
          "execution_count": 39
        }
      ]
    },
    {
      "cell_type": "code",
      "source": [
        "A.get(\"20-B\")"
      ],
      "metadata": {
        "colab": {
          "base_uri": "https://localhost:8080/",
          "height": 35
        },
        "id": "h2vnO9GZp_ER",
        "outputId": "5fac4ba9-79c0-4602-d185-f283fa576d8d"
      },
      "execution_count": null,
      "outputs": [
        {
          "output_type": "execute_result",
          "data": {
            "text/plain": [
              "'박영희'"
            ],
            "application/vnd.google.colaboratory.intrinsic+json": {
              "type": "string"
            }
          },
          "metadata": {},
          "execution_count": 19
        }
      ]
    },
    {
      "cell_type": "code",
      "source": [
        "del A[\"1-A\"]"
      ],
      "metadata": {
        "id": "53_jpFVvqCPT"
      },
      "execution_count": null,
      "outputs": []
    },
    {
      "cell_type": "code",
      "source": [
        "A[\"U-76\"]=\"더철수수\""
      ],
      "metadata": {
        "id": "oXiL_cS5qMmR"
      },
      "execution_count": null,
      "outputs": []
    },
    {
      "cell_type": "code",
      "source": [
        "A"
      ],
      "metadata": {
        "colab": {
          "base_uri": "https://localhost:8080/"
        },
        "id": "TBP-9TRmqNWv",
        "outputId": "03e0eb91-f96a-43c1-8bfc-be1c9f26f633"
      },
      "execution_count": null,
      "outputs": [
        {
          "output_type": "execute_result",
          "data": {
            "text/plain": [
              "{'20-B': '박영희', 'U-76': '더철수수'}"
            ]
          },
          "metadata": {},
          "execution_count": 42
        }
      ]
    },
    {
      "cell_type": "markdown",
      "source": [
        "반복문(for문)"
      ],
      "metadata": {
        "id": "1kzP8f9JDoNs"
      }
    },
    {
      "cell_type": "code",
      "source": [
        "for k in range(14):\n",
        "  print(k)"
      ],
      "metadata": {
        "id": "eghoou11XhJf"
      },
      "execution_count": null,
      "outputs": []
    },
    {
      "cell_type": "code",
      "source": [
        "for i in range(3,11):\n",
        " print(i)"
      ],
      "metadata": {
        "id": "UHc-ViDxqZ9z"
      },
      "execution_count": null,
      "outputs": []
    },
    {
      "cell_type": "code",
      "source": [
        "a= range(-9,1)\n",
        "list(a)"
      ],
      "metadata": {
        "colab": {
          "base_uri": "https://localhost:8080/"
        },
        "id": "Q21I3LBfxTFV",
        "outputId": "c44b50c4-42a9-4fd4-ebc4-012d07d87d5f"
      },
      "execution_count": null,
      "outputs": [
        {
          "output_type": "execute_result",
          "data": {
            "text/plain": [
              "[-9, -8, -7, -6, -5, -4, -3, -2, -1, 0]"
            ]
          },
          "metadata": {},
          "execution_count": 48
        }
      ]
    },
    {
      "cell_type": "code",
      "source": [
        "for i in range(10):\n",
        "  print(i)"
      ],
      "metadata": {
        "id": "8suJ40cqx9-5"
      },
      "execution_count": null,
      "outputs": []
    },
    {
      "cell_type": "code",
      "source": [
        "for i in [1,2,3,4,5,6,7,8,9]:\n",
        "  for j in [1,2,3,4,5,6,7,8,9]:\n",
        "    print(\"{}X{}\".format(i,j))"
      ],
      "metadata": {
        "id": "Mim8CHGJzRDX"
      },
      "execution_count": null,
      "outputs": []
    },
    {
      "cell_type": "code",
      "source": [
        "for i in [1,2,3,4,5,6,7,8,9]:\n",
        "  print(\"-----------{}단---------------- \".format(i))\n",
        "  for j in [1,2,3,4,5,6,7,8,9]:    \n",
        "    print(\" 구구단 : {}  x {} = {} 입니다.\".format(i,j,i*j))"
      ],
      "metadata": {
        "id": "jYYEAxsrzllf"
      },
      "execution_count": null,
      "outputs": []
    },
    {
      "cell_type": "code",
      "source": [
        "for i,j in zip(range(1,10),range(1,7)):#특정 범위를 지정\n",
        "  print(i,j)"
      ],
      "metadata": {
        "id": "nRi9iH9z2VbS"
      },
      "execution_count": null,
      "outputs": []
    },
    {
      "cell_type": "code",
      "source": [
        "list_name = [\"유희경\" , \"황득영\" , \"문성동\", \"윤인섭\",\"박은희\",\"이두호\",\"권세진\"]\n",
        "list_num = [ \"033-570-6371 \",\"033-1570-3445\" , \"033-570-6586\",\"033-570-6374\",\"033-570-6372\",\"033-570-6583\",\"033-570-6377\"]\n",
        "     \n",
        "for list_name,list_num in zip(list_name[0:7],list_num[0:7]):\n",
        "  print(list_name,list_num)"
      ],
      "metadata": {
        "id": "ZK7OtrhF2psH",
        "colab": {
          "base_uri": "https://localhost:8080/"
        },
        "outputId": "78f4bcb7-ff68-44b4-da03-588c0dc67afa"
      },
      "execution_count": null,
      "outputs": [
        {
          "output_type": "stream",
          "name": "stdout",
          "text": [
            "유희경 033-570-6371 \n",
            "황득영 033-1570-3445\n",
            "문성동 033-570-6586\n",
            "윤인섭 033-570-6374\n",
            "박은희 033-570-6372\n",
            "이두호 033-570-6583\n",
            "권세진 033-570-6377\n"
          ]
        }
      ]
    },
    {
      "cell_type": "code",
      "source": [
        "for star in (1,2,3,4,5,6,7,8,9):\n",
        "\n",
        " print((\"*\"*star))"
      ],
      "metadata": {
        "colab": {
          "base_uri": "https://localhost:8080/"
        },
        "id": "OXoRHBnE6bTN",
        "outputId": "51b51535-4588-4a92-bc4a-b2785f8ca062"
      },
      "execution_count": null,
      "outputs": [
        {
          "output_type": "stream",
          "name": "stdout",
          "text": [
            "*\n",
            "**\n",
            "***\n",
            "****\n",
            "*****\n",
            "******\n",
            "*******\n",
            "********\n",
            "*********\n"
          ]
        }
      ]
    },
    {
      "cell_type": "code",
      "source": [
        "a= {1:\"K\" , 5:\"O\"} # keys : values\n",
        "\n",
        "for i,j in a.items():\n",
        "  print(i,j)\n",
        "print(\"-----------\")\n",
        "\n",
        "for i in a.values():\n",
        "  print(i)\n",
        "print(\"-----------\")\n",
        "for i in a.keys():\n",
        "  print(i)"
      ],
      "metadata": {
        "colab": {
          "base_uri": "https://localhost:8080/"
        },
        "id": "bURyfnMGpUyf",
        "outputId": "dca880cc-1fa3-4ca1-b309-9fb00dfd1328"
      },
      "execution_count": null,
      "outputs": [
        {
          "output_type": "stream",
          "name": "stdout",
          "text": [
            "1 K\n",
            "5 O\n",
            "-----------\n",
            "K\n",
            "O\n",
            "-----------\n",
            "1\n",
            "5\n"
          ]
        }
      ]
    },
    {
      "cell_type": "markdown",
      "source": [
        "if문 (제어문)"
      ],
      "metadata": {
        "id": "KW4UBiizsSs6"
      }
    },
    {
      "cell_type": "code",
      "source": [
        "a=10\n",
        "if a >= 10:\n",
        "  print(\"합격\")\n",
        "else:\n",
        "  print(\"불합격\")"
      ],
      "metadata": {
        "colab": {
          "base_uri": "https://localhost:8080/"
        },
        "id": "E3wkFQ48rEMd",
        "outputId": "51e458db-870c-4f4a-e1af-bff976d148ff"
      },
      "execution_count": null,
      "outputs": [
        {
          "output_type": "stream",
          "name": "stdout",
          "text": [
            "합격\n"
          ]
        }
      ]
    },
    {
      "cell_type": "code",
      "source": [
        "if a>=9:  # 첫번째 조건 \n",
        "  print(\"정답\")\n",
        "elif a>=8 and a <11: # 두번째 조건\n",
        "  print(\"통과\")"
      ],
      "metadata": {
        "colab": {
          "base_uri": "https://localhost:8080/"
        },
        "id": "-wfhhzkOsSCh",
        "outputId": "d859b55a-df98-4077-9491-105208186bd6"
      },
      "execution_count": null,
      "outputs": [
        {
          "output_type": "stream",
          "name": "stdout",
          "text": [
            "정답\n"
          ]
        }
      ]
    },
    {
      "cell_type": "code",
      "source": [
        "# if a>=10 and b>=10:\n",
        "  print(\"첫번째\")\n",
        "elif a>=8 and a<10 and b>=9 and b<10:\n",
        "  print(\"두번째\")"
      ],
      "metadata": {
        "id": "chx6hCArs1_a"
      },
      "execution_count": null,
      "outputs": []
    },
    {
      "cell_type": "code",
      "source": [
        " z= input()\n",
        " \n",
        " if \"k\" in z:\n",
        "   print(\"포함\")\n",
        " else:\n",
        "   print(\"미포함\")"
      ],
      "metadata": {
        "colab": {
          "base_uri": "https://localhost:8080/"
        },
        "id": "8LLjOsbR53OM",
        "outputId": "d8bf90e0-db37-4e0d-892c-ddc98a9a0008"
      },
      "execution_count": null,
      "outputs": [
        {
          "output_type": "stream",
          "name": "stdout",
          "text": [
            "korea\n",
            "포함\n"
          ]
        }
      ]
    },
    {
      "cell_type": "code",
      "source": [
        "i=0 # for문과는 다르게 if와 while은 임의의 변수가 필요하다.\n",
        "j=0\n",
        "while i<100:\n",
        "  i=i+2\n",
        "  if i%3==0:\n",
        "    break\n",
        "  print(i)\n",
        "print(\"--------------------------\")\n",
        "\n",
        "while j<100:\n",
        "  j=j+2\n",
        "  if j%3==0:\n",
        "    continue\n",
        "  print(j)"
      ],
      "metadata": {
        "id": "QkCfFeXz6Xe6",
        "colab": {
          "base_uri": "https://localhost:8080/"
        },
        "outputId": "f079df67-96b0-442e-c2f0-b38aa359a545"
      },
      "execution_count": null,
      "outputs": [
        {
          "output_type": "stream",
          "name": "stdout",
          "text": [
            "2\n",
            "4\n",
            "--------------------------\n",
            "2\n",
            "4\n",
            "8\n",
            "10\n",
            "14\n",
            "16\n",
            "20\n",
            "22\n",
            "26\n",
            "28\n",
            "32\n",
            "34\n",
            "38\n",
            "40\n",
            "44\n",
            "46\n",
            "50\n",
            "52\n",
            "56\n",
            "58\n",
            "62\n",
            "64\n",
            "68\n",
            "70\n",
            "74\n",
            "76\n",
            "80\n",
            "82\n",
            "86\n",
            "88\n",
            "92\n",
            "94\n",
            "98\n",
            "100\n"
          ]
        }
      ]
    },
    {
      "cell_type": "markdown",
      "source": [
        "def "
      ],
      "metadata": {
        "id": "dH9j1dVXtNEv"
      }
    },
    {
      "cell_type": "code",
      "source": [
        "c=4\n",
        "def IBM(a,b):\n",
        "  c=a+b\n",
        "  print(c)\n",
        "  return a,b,c\n",
        "   \n",
        "IBM(2,5)\n"
      ],
      "metadata": {
        "colab": {
          "base_uri": "https://localhost:8080/"
        },
        "id": "r94dLVcKtPGM",
        "outputId": "4781dfec-3e6b-42c6-9b41-a0f193d08388"
      },
      "execution_count": null,
      "outputs": [
        {
          "output_type": "stream",
          "name": "stdout",
          "text": [
            "7\n"
          ]
        },
        {
          "output_type": "execute_result",
          "data": {
            "text/plain": [
              "(2, 5, 7)"
            ]
          },
          "metadata": {},
          "execution_count": 3
        }
      ]
    },
    {
      "cell_type": "code",
      "source": [
        "e,f,g=IBM(2,5)"
      ],
      "metadata": {
        "colab": {
          "base_uri": "https://localhost:8080/"
        },
        "id": "Szbw7-KWwfbt",
        "outputId": "015d2a90-d880-403d-9876-8cb558ba1067"
      },
      "execution_count": null,
      "outputs": [
        {
          "output_type": "stream",
          "name": "stdout",
          "text": [
            "7\n"
          ]
        }
      ]
    },
    {
      "cell_type": "code",
      "source": [
        "e"
      ],
      "metadata": {
        "colab": {
          "base_uri": "https://localhost:8080/"
        },
        "id": "U7gQIk_lx8Gv",
        "outputId": "6911ccc2-9969-4a52-ef52-c9bfaaeaf3a0"
      },
      "execution_count": null,
      "outputs": [
        {
          "output_type": "execute_result",
          "data": {
            "text/plain": [
              "2"
            ]
          },
          "metadata": {},
          "execution_count": 33
        }
      ]
    },
    {
      "cell_type": "code",
      "source": [
        "f"
      ],
      "metadata": {
        "colab": {
          "base_uri": "https://localhost:8080/"
        },
        "id": "PrO8EbeYx-NP",
        "outputId": "620c26f1-7f2e-48cc-8a0c-5491dd8c4029"
      },
      "execution_count": null,
      "outputs": [
        {
          "output_type": "execute_result",
          "data": {
            "text/plain": [
              "5"
            ]
          },
          "metadata": {},
          "execution_count": 34
        }
      ]
    },
    {
      "cell_type": "code",
      "source": [
        "g"
      ],
      "metadata": {
        "colab": {
          "base_uri": "https://localhost:8080/"
        },
        "id": "VGfsfzczx-26",
        "outputId": "cd8f1ec0-0e0d-47f4-aa33-6a7b22eb93ec"
      },
      "execution_count": null,
      "outputs": [
        {
          "output_type": "execute_result",
          "data": {
            "text/plain": [
              "7"
            ]
          },
          "metadata": {},
          "execution_count": 35
        }
      ]
    },
    {
      "cell_type": "code",
      "source": [
        "def num(*args, sir):\n",
        "  print(sum(args),sir)"
      ],
      "metadata": {
        "id": "jzBL7hrGy9bk"
      },
      "execution_count": null,
      "outputs": []
    },
    {
      "cell_type": "code",
      "source": [
        "num(1,2,3,4,5,6,7,sir=\"와우\")"
      ],
      "metadata": {
        "colab": {
          "base_uri": "https://localhost:8080/"
        },
        "id": "uyvRXj9Uzw1V",
        "outputId": "e2a69fb9-8154-475e-9be8-b5c3df1e81a4"
      },
      "execution_count": null,
      "outputs": [
        {
          "output_type": "stream",
          "name": "stdout",
          "text": [
            "28 와우\n"
          ]
        }
      ]
    }
  ]
}